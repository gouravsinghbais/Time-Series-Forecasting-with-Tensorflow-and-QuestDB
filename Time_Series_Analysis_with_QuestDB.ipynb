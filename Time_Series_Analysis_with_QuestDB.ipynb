{
 "cells": [
  {
   "cell_type": "code",
   "execution_count": 48,
   "metadata": {},
   "outputs": [],
   "source": [
    "## import dependencies\n",
    "import numpy as np\n",
    "import pandas as pd\n",
    "\n",
    "## deep learning dependencies \n",
    "from sklearn.preprocessing import MinMaxScaler\n",
    "from keras.models import Sequential\n",
    "from keras.layers import *\n",
    "from keras.optimizers import *\n",
    "\n",
    "## QuestDB dependencies\n",
    "import io\n",
    "import requests\n",
    "import urllib.parse as par\n",
    "\n",
    "## timestamp dependencies \n",
    "from datetime import datetime\n",
    "\n",
    "## visualisation dependencies\n",
    "import matplotlib.pyplot as plt\n",
    "%matplotlib inline"
   ]
  },
  {
   "cell_type": "code",
   "execution_count": 49,
   "metadata": {},
   "outputs": [
    {
     "data": {
      "text/html": [
       "<div>\n",
       "<style scoped>\n",
       "    .dataframe tbody tr th:only-of-type {\n",
       "        vertical-align: middle;\n",
       "    }\n",
       "\n",
       "    .dataframe tbody tr th {\n",
       "        vertical-align: top;\n",
       "    }\n",
       "\n",
       "    .dataframe thead th {\n",
       "        text-align: right;\n",
       "    }\n",
       "</style>\n",
       "<table border=\"1\" class=\"dataframe\">\n",
       "  <thead>\n",
       "    <tr style=\"text-align: right;\">\n",
       "      <th></th>\n",
       "      <th>Date</th>\n",
       "      <th>USD</th>\n",
       "      <th>INR</th>\n",
       "    </tr>\n",
       "  </thead>\n",
       "  <tbody>\n",
       "    <tr>\n",
       "      <th>0</th>\n",
       "      <td>2022-02-06</td>\n",
       "      <td>1</td>\n",
       "      <td>74.7073</td>\n",
       "    </tr>\n",
       "    <tr>\n",
       "      <th>1</th>\n",
       "      <td>2022-02-05</td>\n",
       "      <td>1</td>\n",
       "      <td>74.7073</td>\n",
       "    </tr>\n",
       "    <tr>\n",
       "      <th>2</th>\n",
       "      <td>2022-02-04</td>\n",
       "      <td>1</td>\n",
       "      <td>74.7073</td>\n",
       "    </tr>\n",
       "    <tr>\n",
       "      <th>3</th>\n",
       "      <td>2022-02-03</td>\n",
       "      <td>1</td>\n",
       "      <td>74.8875</td>\n",
       "    </tr>\n",
       "    <tr>\n",
       "      <th>4</th>\n",
       "      <td>2022-02-02</td>\n",
       "      <td>1</td>\n",
       "      <td>74.7267</td>\n",
       "    </tr>\n",
       "  </tbody>\n",
       "</table>\n",
       "</div>"
      ],
      "text/plain": [
       "        Date  USD      INR\n",
       "0 2022-02-06    1  74.7073\n",
       "1 2022-02-05    1  74.7073\n",
       "2 2022-02-04    1  74.7073\n",
       "3 2022-02-03    1  74.8875\n",
       "4 2022-02-02    1  74.7267"
      ]
     },
     "execution_count": 49,
     "metadata": {},
     "output_type": "execute_result"
    }
   ],
   "source": [
    "# read dataset using pandas library\n",
    "df = pd.read_excel('Excelrates.xlsx')\n",
    "## check first few rows of the dataset\n",
    "df.head()"
   ]
  },
  {
   "cell_type": "code",
   "execution_count": null,
   "metadata": {},
   "outputs": [],
   "source": [
    "## create table query \n",
    "q = 'create table excel_rates'\\\n",
    "    '(Date timestamp,'\\\n",
    "    'USD int,'\\\n",
    "    'INR double)'\n",
    "## connect to QuestDB URL and execute the query\n",
    "r = requests.get(\"http://localhost:9000/exec?query=\" + q)\n",
    "\n",
    "## print the status code once executed the table creation query\n",
    "print(r.status_code)"
   ]
  },
  {
   "cell_type": "code",
   "execution_count": 12,
   "metadata": {
    "scrolled": true
   },
   "outputs": [
    {
     "name": "stdout",
     "output_type": "stream",
     "text": [
      "Rows inserted: 8435\n"
     ]
    }
   ],
   "source": [
    "## variables for tracking successful execution of queries \n",
    "success = 0\n",
    "fail = 0\n",
    "\n",
    "## iterate over each row and store it in the QuestDB table \n",
    "for i, row in df.iterrows():\n",
    "    date = row['Date']\n",
    "    ## convert date to datetime format to store in DB\n",
    "    date = \"'\"+date.strftime('%Y-%m-%dT%H:%M:%S.%fZ')+\"'\"\n",
    "    usd = row['USD']\n",
    "    inr = row['INR']\n",
    "    query = \"insert into excel_rates values(\" + date + \",\" + str(usd) + \",\"  + str(inr) +\")\"\n",
    "    r = requests.get(\"http://localhost:9000/exec?query=\" + query)\n",
    "    if r.status_code == 200:\n",
    "        success += 1\n",
    "    else:\n",
    "        fail += 1\n",
    "        \n",
    "## check if the execution is successful or not\n",
    "if fail > 0:\n",
    "    print(\"Rows Failed: \" + str(fail))\n",
    "if success > 0:\n",
    "    print(\"Rows inserted: \" + str(success))"
   ]
  },
  {
   "cell_type": "code",
   "execution_count": 50,
   "metadata": {
    "scrolled": true
   },
   "outputs": [
    {
     "data": {
      "text/plain": [
       "Index(['Date', 'USD', 'INR'], dtype='object')"
      ]
     },
     "execution_count": 50,
     "metadata": {},
     "output_type": "execute_result"
    }
   ],
   "source": [
    "## select data from QuestDB\n",
    "r = requests.get(\"http://localhost:9000/exp?query=select * from excel_rates\")\n",
    "rawData = r.text\n",
    "\n",
    "## convert Bytes to CSV format and read using pandas library\n",
    "df = pd.read_csv(io.StringIO(rawData), parse_dates=['Date'])\n",
    "df.columns "
   ]
  },
  {
   "cell_type": "code",
   "execution_count": 51,
   "metadata": {
    "scrolled": true
   },
   "outputs": [
    {
     "data": {
      "text/html": [
       "<div>\n",
       "<style scoped>\n",
       "    .dataframe tbody tr th:only-of-type {\n",
       "        vertical-align: middle;\n",
       "    }\n",
       "\n",
       "    .dataframe tbody tr th {\n",
       "        vertical-align: top;\n",
       "    }\n",
       "\n",
       "    .dataframe thead th {\n",
       "        text-align: right;\n",
       "    }\n",
       "</style>\n",
       "<table border=\"1\" class=\"dataframe\">\n",
       "  <thead>\n",
       "    <tr style=\"text-align: right;\">\n",
       "      <th></th>\n",
       "      <th>INR</th>\n",
       "    </tr>\n",
       "    <tr>\n",
       "      <th>Date</th>\n",
       "      <th></th>\n",
       "    </tr>\n",
       "  </thead>\n",
       "  <tbody>\n",
       "    <tr>\n",
       "      <th>1999-01-04 00:00:00+00:00</th>\n",
       "      <td>0.0000</td>\n",
       "    </tr>\n",
       "    <tr>\n",
       "      <th>2022-02-06 00:00:00+00:00</th>\n",
       "      <td>74.7073</td>\n",
       "    </tr>\n",
       "    <tr>\n",
       "      <th>2022-02-05 00:00:00+00:00</th>\n",
       "      <td>74.7073</td>\n",
       "    </tr>\n",
       "    <tr>\n",
       "      <th>2022-02-04 00:00:00+00:00</th>\n",
       "      <td>74.7073</td>\n",
       "    </tr>\n",
       "    <tr>\n",
       "      <th>2022-02-03 00:00:00+00:00</th>\n",
       "      <td>74.8875</td>\n",
       "    </tr>\n",
       "  </tbody>\n",
       "</table>\n",
       "</div>"
      ],
      "text/plain": [
       "                               INR\n",
       "Date                              \n",
       "1999-01-04 00:00:00+00:00   0.0000\n",
       "2022-02-06 00:00:00+00:00  74.7073\n",
       "2022-02-05 00:00:00+00:00  74.7073\n",
       "2022-02-04 00:00:00+00:00  74.7073\n",
       "2022-02-03 00:00:00+00:00  74.8875"
      ]
     },
     "execution_count": 51,
     "metadata": {},
     "output_type": "execute_result"
    }
   ],
   "source": [
    "## drop USD column from the dataframe\n",
    "df = df.drop('USD', axis=1)\n",
    "## convert Date column to datetime format\n",
    "df['Date'] = pd.to_datetime(df[\"Date\"])\n",
    "## set Date as index \n",
    "indexed_df = df.set_index([\"Date\"], drop=True)\n",
    "indexed_df.head()"
   ]
  },
  {
   "cell_type": "code",
   "execution_count": 52,
   "metadata": {},
   "outputs": [
    {
     "data": {
      "text/plain": [
       "<AxesSubplot:xlabel='Date'>"
      ]
     },
     "execution_count": 52,
     "metadata": {},
     "output_type": "execute_result"
    },
    {
     "data": {
      "image/png": "[encoded data removed]",
      "text/plain": [
       "<Figure size 432x288 with 1 Axes>"
      ]
     },
     "metadata": {},
     "output_type": "display_data"
    }
   ],
   "source": [
    "indexed_df.plot()"
   ]
  },
  {
   "cell_type": "code",
   "execution_count": 53,
   "metadata": {},
   "outputs": [
    {
     "data": {
      "text/html": [
       "<div>\n",
       "<style scoped>\n",
       "    .dataframe tbody tr th:only-of-type {\n",
       "        vertical-align: middle;\n",
       "    }\n",
       "\n",
       "    .dataframe tbody tr th {\n",
       "        vertical-align: top;\n",
       "    }\n",
       "\n",
       "    .dataframe thead th {\n",
       "        text-align: right;\n",
       "    }\n",
       "</style>\n",
       "<table border=\"1\" class=\"dataframe\">\n",
       "  <thead>\n",
       "    <tr style=\"text-align: right;\">\n",
       "      <th></th>\n",
       "      <th>INR</th>\n",
       "    </tr>\n",
       "    <tr>\n",
       "      <th>Date</th>\n",
       "      <th></th>\n",
       "    </tr>\n",
       "  </thead>\n",
       "  <tbody>\n",
       "    <tr>\n",
       "      <th>2009-01-02 00:00:00+00:00</th>\n",
       "      <td>48.4098</td>\n",
       "    </tr>\n",
       "    <tr>\n",
       "      <th>2009-01-03 00:00:00+00:00</th>\n",
       "      <td>48.4098</td>\n",
       "    </tr>\n",
       "    <tr>\n",
       "      <th>2009-01-04 00:00:00+00:00</th>\n",
       "      <td>48.4098</td>\n",
       "    </tr>\n",
       "    <tr>\n",
       "      <th>2009-01-05 00:00:00+00:00</th>\n",
       "      <td>48.5149</td>\n",
       "    </tr>\n",
       "    <tr>\n",
       "      <th>2009-01-06 00:00:00+00:00</th>\n",
       "      <td>48.6251</td>\n",
       "    </tr>\n",
       "  </tbody>\n",
       "</table>\n",
       "</div>"
      ],
      "text/plain": [
       "                               INR\n",
       "Date                              \n",
       "2009-01-02 00:00:00+00:00  48.4098\n",
       "2009-01-03 00:00:00+00:00  48.4098\n",
       "2009-01-04 00:00:00+00:00  48.4098\n",
       "2009-01-05 00:00:00+00:00  48.5149\n",
       "2009-01-06 00:00:00+00:00  48.6251"
      ]
     },
     "execution_count": 53,
     "metadata": {},
     "output_type": "execute_result"
    }
   ],
   "source": [
    "indexed_df = indexed_df[indexed_df.INR != 0.0]\n",
    "indexed_df = indexed_df.iloc[::-1]\n",
    "indexed_df.head()"
   ]
  },
  {
   "cell_type": "code",
   "execution_count": 54,
   "metadata": {},
   "outputs": [
    {
     "data": {
      "text/html": [
       "<div>\n",
       "<style scoped>\n",
       "    .dataframe tbody tr th:only-of-type {\n",
       "        vertical-align: middle;\n",
       "    }\n",
       "\n",
       "    .dataframe tbody tr th {\n",
       "        vertical-align: top;\n",
       "    }\n",
       "\n",
       "    .dataframe thead th {\n",
       "        text-align: right;\n",
       "    }\n",
       "</style>\n",
       "<table border=\"1\" class=\"dataframe\">\n",
       "  <thead>\n",
       "    <tr style=\"text-align: right;\">\n",
       "      <th></th>\n",
       "      <th>INR</th>\n",
       "      <th>INR</th>\n",
       "    </tr>\n",
       "    <tr>\n",
       "      <th>Date</th>\n",
       "      <th></th>\n",
       "      <th></th>\n",
       "    </tr>\n",
       "  </thead>\n",
       "  <tbody>\n",
       "    <tr>\n",
       "      <th>2009-01-02 00:00:00+00:00</th>\n",
       "      <td>48.4098</td>\n",
       "      <td>0.0000</td>\n",
       "    </tr>\n",
       "    <tr>\n",
       "      <th>2009-01-03 00:00:00+00:00</th>\n",
       "      <td>48.4098</td>\n",
       "      <td>48.4098</td>\n",
       "    </tr>\n",
       "    <tr>\n",
       "      <th>2009-01-04 00:00:00+00:00</th>\n",
       "      <td>48.4098</td>\n",
       "      <td>48.4098</td>\n",
       "    </tr>\n",
       "    <tr>\n",
       "      <th>2009-01-05 00:00:00+00:00</th>\n",
       "      <td>48.5149</td>\n",
       "      <td>48.4098</td>\n",
       "    </tr>\n",
       "    <tr>\n",
       "      <th>2009-01-06 00:00:00+00:00</th>\n",
       "      <td>48.6251</td>\n",
       "      <td>48.5149</td>\n",
       "    </tr>\n",
       "  </tbody>\n",
       "</table>\n",
       "</div>"
      ],
      "text/plain": [
       "                               INR      INR\n",
       "Date                                       \n",
       "2009-01-02 00:00:00+00:00  48.4098   0.0000\n",
       "2009-01-03 00:00:00+00:00  48.4098  48.4098\n",
       "2009-01-04 00:00:00+00:00  48.4098  48.4098\n",
       "2009-01-05 00:00:00+00:00  48.5149  48.4098\n",
       "2009-01-06 00:00:00+00:00  48.6251  48.5149"
      ]
     },
     "execution_count": 54,
     "metadata": {},
     "output_type": "execute_result"
    }
   ],
   "source": [
    "## shift INR values by 1 \n",
    "shifted_df= indexed_df.shift()\n",
    "## merge INR and Shifter INR values \n",
    "concat_df = [indexed_df, shifted_df]\n",
    "data = pd.concat(concat_df,axis=1)\n",
    "## Replace NaNs with 0\n",
    "data.fillna(0, inplace=True)\n",
    "data.head()"
   ]
  },
  {
   "cell_type": "code",
   "execution_count": 55,
   "metadata": {},
   "outputs": [],
   "source": [
    "## convert data to numpy array \n",
    "data = np.array(data)\n",
    "## you can take last 500 data points as test set\n",
    "train , test = data[0:-500], data[-500:]"
   ]
  },
  {
   "cell_type": "code",
   "execution_count": 56,
   "metadata": {},
   "outputs": [],
   "source": [
    "# Scale\n",
    "scaler = MinMaxScaler()\n",
    "train_scaled = scaler.fit_transform(train)\n",
    "test_scaled = scaler.transform(test)\n",
    "\n",
    "# train data\n",
    "y_train = train_scaled[:,-1]\n",
    "X_train = train_scaled[:,0:-1]\n",
    "X_train = X_train.reshape(len(X_train),1,1)\n",
    "\n",
    "#test data\n",
    "y_test = test_scaled[:,-1]\n",
    "X_test = test_scaled[:,0:-1]"
   ]
  },
  {
   "cell_type": "code",
   "execution_count": 33,
   "metadata": {
    "scrolled": true
   },
   "outputs": [
    {
     "name": "stdout",
     "output_type": "stream",
     "text": [
      "WARNING:tensorflow:From /Users/gouravbais/anaconda3/lib/python3.6/site-packages/tensorflow/python/framework/op_def_library.py:263: colocate_with (from tensorflow.python.framework.ops) is deprecated and will be removed in a future version.\n",
      "Instructions for updating:\n",
      "Colocations handled automatically by placer.\n",
      "WARNING:tensorflow:From /Users/gouravbais/anaconda3/lib/python3.6/site-packages/tensorflow/python/ops/math_ops.py:3066: to_int32 (from tensorflow.python.ops.math_ops) is deprecated and will be removed in a future version.\n",
      "Instructions for updating:\n",
      "Use tf.cast instead.\n",
      "Epoch 1/100\n",
      "4284/4284 [==============================] - 2s 361us/step - loss: 0.0519 - acc: 4.6685e-04\n",
      "Epoch 2/100\n",
      "4284/4284 [==============================] - 1s 207us/step - loss: 1.0326e-04 - acc: 2.3343e-04\n",
      "Epoch 3/100\n",
      "4284/4284 [==============================] - 1s 191us/step - loss: 1.0221e-04 - acc: 2.3343e-04\n",
      "Epoch 4/100\n",
      "4284/4284 [==============================] - 1s 180us/step - loss: 1.0224e-04 - acc: 2.3343e-04\n",
      "Epoch 5/100\n",
      "4284/4284 [==============================] - 1s 175us/step - loss: 1.0233e-04 - acc: 2.3343e-04\n",
      "Epoch 6/100\n",
      "4284/4284 [==============================] - 1s 173us/step - loss: 1.0247e-04 - acc: 2.3343e-04\n",
      "Epoch 7/100\n",
      "4284/4284 [==============================] - 1s 170us/step - loss: 1.0268e-04 - acc: 2.3343e-04\n",
      "Epoch 8/100\n",
      "4284/4284 [==============================] - 1s 173us/step - loss: 1.0291e-04 - acc: 2.3343e-04\n",
      "Epoch 9/100\n",
      "4284/4284 [==============================] - 1s 172us/step - loss: 1.0316e-04 - acc: 2.3343e-04\n",
      "Epoch 10/100\n",
      "4284/4284 [==============================] - 1s 175us/step - loss: 1.0341e-04 - acc: 2.3343e-04\n",
      "Epoch 11/100\n",
      "4284/4284 [==============================] - 1s 183us/step - loss: 1.0368e-04 - acc: 2.3343e-04\n",
      "Epoch 12/100\n",
      "4284/4284 [==============================] - 1s 170us/step - loss: 1.0403e-04 - acc: 2.3343e-04\n",
      "Epoch 13/100\n",
      "4284/4284 [==============================] - 1s 175us/step - loss: 1.0443e-04 - acc: 2.3343e-04\n",
      "Epoch 14/100\n",
      "4284/4284 [==============================] - 1s 174us/step - loss: 1.0473e-04 - acc: 2.3343e-04\n",
      "Epoch 15/100\n",
      "4284/4284 [==============================] - 1s 178us/step - loss: 1.0485e-04 - acc: 2.3343e-04\n",
      "Epoch 16/100\n",
      "4284/4284 [==============================] - 1s 179us/step - loss: 1.0485e-04 - acc: 2.3343e-04\n",
      "Epoch 17/100\n",
      "4284/4284 [==============================] - 1s 196us/step - loss: 1.0498e-04 - acc: 2.3343e-04\n",
      "Epoch 18/100\n",
      "4284/4284 [==============================] - 1s 200us/step - loss: 1.0536e-04 - acc: 2.3343e-04\n",
      "Epoch 19/100\n",
      "4284/4284 [==============================] - 1s 184us/step - loss: 1.0592e-04 - acc: 2.3343e-04\n",
      "Epoch 20/100\n",
      "4284/4284 [==============================] - 1s 188us/step - loss: 1.0663e-04 - acc: 2.3343e-04\n",
      "Epoch 21/100\n",
      "4284/4284 [==============================] - 1s 221us/step - loss: 1.0734e-04 - acc: 2.3343e-04\n",
      "Epoch 22/100\n",
      "4284/4284 [==============================] - 1s 181us/step - loss: 1.0806e-04 - acc: 2.3343e-04\n",
      "Epoch 23/100\n",
      "4284/4284 [==============================] - 1s 192us/step - loss: 1.0878e-04 - acc: 2.3343e-04\n",
      "Epoch 24/100\n",
      "4284/4284 [==============================] - 1s 256us/step - loss: 1.0963e-04 - acc: 2.3343e-04\n",
      "Epoch 25/100\n",
      "4284/4284 [==============================] - 1s 221us/step - loss: 1.1067e-04 - acc: 2.3343e-04\n",
      "Epoch 26/100\n",
      "4284/4284 [==============================] - 1s 272us/step - loss: 1.1194e-04 - acc: 2.3343e-04\n",
      "Epoch 27/100\n",
      "4284/4284 [==============================] - 1s 237us/step - loss: 1.1351e-04 - acc: 2.3343e-04\n",
      "Epoch 28/100\n",
      "4284/4284 [==============================] - 1s 227us/step - loss: 1.1566e-04 - acc: 2.3343e-04\n",
      "Epoch 29/100\n",
      "4284/4284 [==============================] - 1s 206us/step - loss: 1.1853e-04 - acc: 2.3343e-04\n",
      "Epoch 30/100\n",
      "4284/4284 [==============================] - 1s 174us/step - loss: 1.2082e-04 - acc: 2.3343e-04\n",
      "Epoch 31/100\n",
      "4284/4284 [==============================] - 1s 175us/step - loss: 1.2039e-04 - acc: 2.3343e-04\n",
      "Epoch 32/100\n",
      "4284/4284 [==============================] - 1s 177us/step - loss: 1.1889e-04 - acc: 2.3343e-04\n",
      "Epoch 33/100\n",
      "4284/4284 [==============================] - 1s 189us/step - loss: 1.1809e-04 - acc: 2.3343e-04\n",
      "Epoch 34/100\n",
      "4284/4284 [==============================] - 1s 235us/step - loss: 1.1799e-04 - acc: 2.3343e-04\n",
      "Epoch 35/100\n",
      "4284/4284 [==============================] - 1s 194us/step - loss: 1.1816e-04 - acc: 2.3343e-04\n",
      "Epoch 36/100\n",
      "4284/4284 [==============================] - 1s 253us/step - loss: 1.1832e-04 - acc: 2.3343e-04\n",
      "Epoch 37/100\n",
      "4284/4284 [==============================] - 1s 258us/step - loss: 1.1840e-04 - acc: 2.3343e-04\n",
      "Epoch 38/100\n",
      "4284/4284 [==============================] - 1s 246us/step - loss: 1.1835e-04 - acc: 2.3343e-04\n",
      "Epoch 39/100\n",
      "4284/4284 [==============================] - 1s 200us/step - loss: 1.1829e-04 - acc: 2.3343e-04\n",
      "Epoch 40/100\n",
      "4284/4284 [==============================] - 1s 193us/step - loss: 1.1822e-04 - acc: 2.3343e-04\n",
      "Epoch 41/100\n",
      "4284/4284 [==============================] - 1s 192us/step - loss: 1.1818e-04 - acc: 2.3343e-04\n",
      "Epoch 42/100\n",
      "4284/4284 [==============================] - 1s 181us/step - loss: 1.1811e-04 - acc: 2.3343e-04\n",
      "Epoch 43/100\n",
      "4284/4284 [==============================] - 1s 201us/step - loss: 1.1806e-04 - acc: 2.3343e-04\n",
      "Epoch 44/100\n",
      "4284/4284 [==============================] - 1s 201us/step - loss: 1.1804e-04 - acc: 2.3343e-04\n",
      "Epoch 45/100\n",
      "4284/4284 [==============================] - 1s 213us/step - loss: 1.1798e-04 - acc: 2.3343e-04\n",
      "Epoch 46/100\n",
      "4284/4284 [==============================] - 1s 211us/step - loss: 1.1792e-04 - acc: 2.3343e-04\n",
      "Epoch 47/100\n",
      "4284/4284 [==============================] - 1s 201us/step - loss: 1.1787e-04 - acc: 2.3343e-04\n",
      "Epoch 48/100\n",
      "4284/4284 [==============================] - 1s 214us/step - loss: 1.1781e-04 - acc: 2.3343e-04\n",
      "Epoch 49/100\n",
      "4284/4284 [==============================] - 1s 214us/step - loss: 1.1778e-04 - acc: 2.3343e-04\n",
      "Epoch 50/100\n",
      "4284/4284 [==============================] - 1s 211us/step - loss: 1.1773e-04 - acc: 2.3343e-04\n",
      "Epoch 51/100\n",
      "4284/4284 [==============================] - 1s 235us/step - loss: 1.1768e-04 - acc: 2.3343e-04\n",
      "Epoch 52/100\n",
      "4284/4284 [==============================] - 1s 211us/step - loss: 1.1763e-04 - acc: 2.3343e-04\n",
      "Epoch 53/100\n",
      "4284/4284 [==============================] - 1s 215us/step - loss: 1.1758e-04 - acc: 2.3343e-04\n",
      "Epoch 54/100\n",
      "4284/4284 [==============================] - 1s 243us/step - loss: 1.1752e-04 - acc: 2.3343e-04\n",
      "Epoch 55/100\n",
      "4284/4284 [==============================] - 1s 216us/step - loss: 1.1748e-04 - acc: 2.3343e-04\n",
      "Epoch 56/100\n",
      "4284/4284 [==============================] - 1s 212us/step - loss: 1.1744e-04 - acc: 2.3343e-04\n",
      "Epoch 57/100\n",
      "4284/4284 [==============================] - 1s 216us/step - loss: 1.1738e-04 - acc: 2.3343e-04\n",
      "Epoch 58/100\n",
      "4284/4284 [==============================] - 1s 214us/step - loss: 1.1731e-04 - acc: 2.3343e-04\n",
      "Epoch 59/100\n",
      "4284/4284 [==============================] - 1s 199us/step - loss: 1.1727e-04 - acc: 2.3343e-04\n",
      "Epoch 60/100\n",
      "4284/4284 [==============================] - 1s 206us/step - loss: 1.1722e-04 - acc: 2.3343e-04\n",
      "Epoch 61/100\n",
      "4284/4284 [==============================] - 1s 214us/step - loss: 1.1718e-04 - acc: 2.3343e-04\n",
      "Epoch 62/100\n",
      "4284/4284 [==============================] - 1s 217us/step - loss: 1.1712e-04 - acc: 2.3343e-04\n",
      "Epoch 63/100\n",
      "4284/4284 [==============================] - 1s 209us/step - loss: 1.1706e-04 - acc: 2.3343e-04\n",
      "Epoch 64/100\n",
      "4284/4284 [==============================] - 1s 213us/step - loss: 1.1700e-04 - acc: 2.3343e-04\n",
      "Epoch 65/100\n",
      "4284/4284 [==============================] - 1s 222us/step - loss: 1.1697e-04 - acc: 2.3343e-04\n",
      "Epoch 66/100\n",
      "4284/4284 [==============================] - 1s 223us/step - loss: 1.1692e-04 - acc: 2.3343e-04\n",
      "Epoch 67/100\n",
      "4284/4284 [==============================] - 1s 207us/step - loss: 1.1686e-04 - acc: 2.3343e-04\n",
      "Epoch 68/100\n",
      "4284/4284 [==============================] - 1s 199us/step - loss: 1.1681e-04 - acc: 2.3343e-04\n",
      "Epoch 69/100\n",
      "4284/4284 [==============================] - 1s 207us/step - loss: 1.1675e-04 - acc: 2.3343e-04\n",
      "Epoch 70/100\n",
      "4284/4284 [==============================] - 1s 208us/step - loss: 1.1670e-04 - acc: 2.3343e-04\n"
     ]
    },
    {
     "name": "stdout",
     "output_type": "stream",
     "text": [
      "Epoch 71/100\n",
      "4284/4284 [==============================] - 1s 167us/step - loss: 1.1667e-04 - acc: 2.3343e-04\n",
      "Epoch 72/100\n",
      "4284/4284 [==============================] - 1s 161us/step - loss: 1.1660e-04 - acc: 2.3343e-04\n",
      "Epoch 73/100\n",
      "4284/4284 [==============================] - 1s 164us/step - loss: 1.1656e-04 - acc: 2.3343e-04\n",
      "Epoch 74/100\n",
      "4284/4284 [==============================] - 1s 162us/step - loss: 1.1651e-04 - acc: 2.3343e-04\n",
      "Epoch 75/100\n",
      "4284/4284 [==============================] - 1s 160us/step - loss: 1.1645e-04 - acc: 2.3343e-04\n",
      "Epoch 76/100\n",
      "4284/4284 [==============================] - 1s 161us/step - loss: 1.1639e-04 - acc: 2.3343e-04\n",
      "Epoch 77/100\n",
      "4284/4284 [==============================] - 1s 164us/step - loss: 1.1634e-04 - acc: 2.3343e-04\n",
      "Epoch 78/100\n",
      "4284/4284 [==============================] - 1s 170us/step - loss: 1.1629e-04 - acc: 2.3343e-04\n",
      "Epoch 79/100\n",
      "4284/4284 [==============================] - 1s 164us/step - loss: 1.1625e-04 - acc: 2.3343e-04\n",
      "Epoch 80/100\n",
      "4284/4284 [==============================] - 1s 163us/step - loss: 1.1620e-04 - acc: 2.3343e-04\n",
      "Epoch 81/100\n",
      "4284/4284 [==============================] - 1s 160us/step - loss: 1.1615e-04 - acc: 2.3343e-04\n",
      "Epoch 82/100\n",
      "4284/4284 [==============================] - 1s 165us/step - loss: 1.1608e-04 - acc: 2.3343e-04\n",
      "Epoch 83/100\n",
      "4284/4284 [==============================] - 1s 169us/step - loss: 1.1605e-04 - acc: 2.3343e-04\n",
      "Epoch 84/100\n",
      "4284/4284 [==============================] - 1s 180us/step - loss: 1.1600e-04 - acc: 2.3343e-04\n",
      "Epoch 85/100\n",
      "4284/4284 [==============================] - 1s 161us/step - loss: 1.1595e-04 - acc: 2.3343e-04\n",
      "Epoch 86/100\n",
      "4284/4284 [==============================] - 1s 167us/step - loss: 1.1588e-04 - acc: 2.3343e-04\n",
      "Epoch 87/100\n",
      "4284/4284 [==============================] - 1s 168us/step - loss: 1.1583e-04 - acc: 2.3343e-04\n",
      "Epoch 88/100\n",
      "4284/4284 [==============================] - 1s 219us/step - loss: 1.1578e-04 - acc: 2.3343e-04\n",
      "Epoch 89/100\n",
      "4284/4284 [==============================] - 1s 190us/step - loss: 1.1572e-04 - acc: 2.3343e-04\n",
      "Epoch 90/100\n",
      "4284/4284 [==============================] - 1s 170us/step - loss: 1.1567e-04 - acc: 2.3343e-04\n",
      "Epoch 91/100\n",
      "4284/4284 [==============================] - 1s 187us/step - loss: 1.1563e-04 - acc: 2.3343e-04\n",
      "Epoch 92/100\n",
      "4284/4284 [==============================] - 1s 177us/step - loss: 1.1558e-04 - acc: 2.3343e-04\n",
      "Epoch 93/100\n",
      "4284/4284 [==============================] - 1s 167us/step - loss: 1.1552e-04 - acc: 2.3343e-04\n",
      "Epoch 94/100\n",
      "4284/4284 [==============================] - 1s 169us/step - loss: 1.1546e-04 - acc: 2.3343e-04\n",
      "Epoch 95/100\n",
      "4284/4284 [==============================] - 1s 163us/step - loss: 1.1542e-04 - acc: 2.3343e-04\n",
      "Epoch 96/100\n",
      "4284/4284 [==============================] - 1s 164us/step - loss: 1.1536e-04 - acc: 2.3343e-04\n",
      "Epoch 97/100\n",
      "4284/4284 [==============================] - 1s 164us/step - loss: 1.1531e-04 - acc: 2.3343e-04\n",
      "Epoch 98/100\n",
      "4284/4284 [==============================] - 1s 165us/step - loss: 1.1524e-04 - acc: 2.3343e-04\n",
      "Epoch 99/100\n",
      "4284/4284 [==============================] - 1s 175us/step - loss: 1.1521e-04 - acc: 2.3343e-04\n",
      "Epoch 100/100\n",
      "4284/4284 [==============================] - 1s 164us/step - loss: 1.1516e-04 - acc: 2.3343e-04\n"
     ]
    },
    {
     "data": {
      "text/plain": [
       "<keras.callbacks.History at 0x7f8f5323e748>"
      ]
     },
     "execution_count": 33,
     "metadata": {},
     "output_type": "execute_result"
    }
   ],
   "source": [
    "## GRU Model\n",
    "model = Sequential()\n",
    "## GRU layer \n",
    "model.add(GRU(75, input_shape=(1,1)))\n",
    "## output layer \n",
    "model.add(Dense(1))\n",
    "optimizer = Adam(lr=1e-3)\n",
    "model.compile(loss='mean_squared_error', optimizer=optimizer, metrics=['accuracy'])\n",
    "model.fit(X_train, y_train, epochs=100, batch_size=20, shuffle=False)"
   ]
  },
  {
   "cell_type": "code",
   "execution_count": 57,
   "metadata": {},
   "outputs": [
    {
     "data": {
      "text/plain": [
       "<matplotlib.legend.Legend at 0x7f8f4f3ae400>"
      ]
     },
     "execution_count": 57,
     "metadata": {},
     "output_type": "execute_result"
    },
    {
     "data": {
      "image/png": "[encoded data removed]",
      "text/plain": [
       "<Figure size 432x288 with 1 Axes>"
      ]
     },
     "metadata": {},
     "output_type": "display_data"
    }
   ],
   "source": [
    "## make predictions for test set \n",
    "X_test = X_test.reshape(500,1,1)\n",
    "y_pred = model.predict(X_test)\n",
    "\n",
    "## visualise results\n",
    "plt.plot(y_pred, label = 'predictions')\n",
    "plt.plot(y_test, label = 'actual')\n",
    "plt.legend()"
   ]
  },
  {
   "cell_type": "code",
   "execution_count": 58,
   "metadata": {},
   "outputs": [
    {
     "data": {
      "text/plain": [
       "<matplotlib.legend.Legend at 0x7f8f36e89550>"
      ]
     },
     "execution_count": 58,
     "metadata": {},
     "output_type": "execute_result"
    },
    {
     "data": {
      "image/png": "[encoded data removed]",
      "text/plain": [
       "<Figure size 432x288 with 1 Axes>"
      ]
     },
     "metadata": {},
     "output_type": "display_data"
    }
   ],
   "source": [
    "## visualize results\n",
    "plt.plot(y_pred[:100], label = 'predictions')\n",
    "plt.plot(y_test[:100], label = 'actual')\n",
    "plt.legend()"
   ]
  },
  {
   "cell_type": "code",
   "execution_count": null,
   "metadata": {},
   "outputs": [],
   "source": []
  },
  {
   "cell_type": "code",
   "execution_count": null,
   "metadata": {},
   "outputs": [],
   "source": []
  }
 ],
 "metadata": {
  "interpreter": {
   "hash": "76e00d5fc0c4aba89ae3bc844e1d324c26d2c49603b379bdfecca22b57bd9acd"
  },
  "kernelspec": {
   "display_name": "Python 3",
   "language": "python",
   "name": "python3"
  },
  "language_info": {
   "codemirror_mode": {
    "name": "ipython",
    "version": 3
   },
   "file_extension": ".py",
   "mimetype": "text/x-python",
   "name": "python",
   "nbconvert_exporter": "python",
   "pygments_lexer": "ipython3",
   "version": "3.6.4"
  }
 },
 "nbformat": 4,
 "nbformat_minor": 2
}
